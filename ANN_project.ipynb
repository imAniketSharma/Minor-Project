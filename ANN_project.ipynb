{
 "cells": [
  {
   "cell_type": "markdown",
   "metadata": {},
   "source": [
    "### Importing Libraries"
   ]
  },
  {
   "cell_type": "code",
   "execution_count": 1,
   "metadata": {},
   "outputs": [],
   "source": [
    "import numpy as np\n",
    "import matplotlib.pyplot as plt\n",
    "import pandas as pd"
   ]
  },
  {
   "cell_type": "markdown",
   "metadata": {},
   "source": [
    "### Importing the dataset"
   ]
  },
  {
   "cell_type": "code",
   "execution_count": 2,
   "metadata": {},
   "outputs": [],
   "source": [
    "dataset = pd.read_csv('Churn_Modelling.csv')\n",
    "X = dataset.iloc[:, 3:13].values\n",
    "y = dataset.iloc[:, 13].values"
   ]
  },
  {
   "cell_type": "markdown",
   "metadata": {},
   "source": [
    "### Encoding categorical data"
   ]
  },
  {
   "cell_type": "code",
   "execution_count": 3,
   "metadata": {},
   "outputs": [
    {
     "name": "stderr",
     "output_type": "stream",
     "text": [
      "/home/jupyterlab/conda/envs/python/lib/python3.6/site-packages/sklearn/preprocessing/_encoders.py:368: FutureWarning: The handling of integer data will change in version 0.22. Currently, the categories are determined based on the range [0, max(values)], while in the future they will be determined based on the unique values.\n",
      "If you want the future behaviour and silence this warning, you can specify \"categories='auto'\".\n",
      "In case you used a LabelEncoder before this OneHotEncoder to convert the categories to integers, then you can now use the OneHotEncoder directly.\n",
      "  warnings.warn(msg, FutureWarning)\n",
      "/home/jupyterlab/conda/envs/python/lib/python3.6/site-packages/sklearn/preprocessing/_encoders.py:390: DeprecationWarning: The 'categorical_features' keyword is deprecated in version 0.20 and will be removed in 0.22. You can use the ColumnTransformer instead.\n",
      "  \"use the ColumnTransformer instead.\", DeprecationWarning)\n"
     ]
    }
   ],
   "source": [
    "from sklearn.preprocessing import LabelEncoder, OneHotEncoder\n",
    "labelencoder_X_1 = LabelEncoder()\n",
    "X[:, 1] = labelencoder_X_1.fit_transform(X[:, 1])\n",
    "labelencoder_X_2 = LabelEncoder()\n",
    "X[:, 2] = labelencoder_X_2.fit_transform(X[:, 2])\n",
    "onehotencoder = OneHotEncoder(categorical_features = [1])\n",
    "X = onehotencoder.fit_transform(X).toarray()\n",
    "X = X[:, 1:]\n"
   ]
  },
  {
   "cell_type": "markdown",
   "metadata": {},
   "source": [
    "### Splitting the dataset into the Training set and Test set"
   ]
  },
  {
   "cell_type": "code",
   "execution_count": 4,
   "metadata": {},
   "outputs": [],
   "source": [
    "from sklearn.model_selection import train_test_split\n",
    "X_train, X_test, y_train, y_test = train_test_split(X, y, test_size = 0.3, random_state = 0)"
   ]
  },
  {
   "cell_type": "markdown",
   "metadata": {},
   "source": [
    "### Feature Scaling\n"
   ]
  },
  {
   "cell_type": "code",
   "execution_count": 5,
   "metadata": {},
   "outputs": [],
   "source": [
    "from sklearn.preprocessing import StandardScaler\n",
    "sc = StandardScaler()\n",
    "X_train = sc.fit_transform(X_train)\n",
    "X_test = sc.transform(X_test)"
   ]
  },
  {
   "cell_type": "markdown",
   "metadata": {},
   "source": [
    "### Now let's make the ANN!"
   ]
  },
  {
   "cell_type": "code",
   "execution_count": 6,
   "metadata": {},
   "outputs": [
    {
     "name": "stderr",
     "output_type": "stream",
     "text": [
      "Using TensorFlow backend.\n"
     ]
    }
   ],
   "source": [
    "# Importing the Keras libraries and packages\n",
    "import keras\n",
    "from keras.models import Sequential\n",
    "from keras.layers import Dense"
   ]
  },
  {
   "cell_type": "markdown",
   "metadata": {},
   "source": [
    "### Build a Neural Network"
   ]
  },
  {
   "cell_type": "code",
   "execution_count": 7,
   "metadata": {},
   "outputs": [],
   "source": [
    "# define classification model\n",
    "def classification_model():\n",
    "    # create model\n",
    "    classifier = Sequential()\n",
    "\n",
    "    # Adding the input layer and the first hidden layer\n",
    "    classifier.add(Dense(units = 6, kernel_initializer = 'uniform', activation = 'relu', input_dim = 11))\n",
    "\n",
    "    # Adding the second hidden layer\n",
    "    classifier.add(Dense(units = 6, kernel_initializer = 'uniform', activation = 'relu'))\n",
    "\n",
    "    # Adding the output layer\n",
    "    classifier.add(Dense(units = 1, kernel_initializer = 'uniform', activation = 'sigmoid'))\n",
    "\n",
    "    # Compiling the ANN\n",
    "    classifier.compile(optimizer = 'adam', loss = 'binary_crossentropy', metrics = ['accuracy'])\n",
    "    return classifier"
   ]
  },
  {
   "cell_type": "markdown",
   "metadata": {},
   "source": [
    "### Train and Test the model"
   ]
  },
  {
   "cell_type": "code",
   "execution_count": 8,
   "metadata": {},
   "outputs": [
    {
     "name": "stdout",
     "output_type": "stream",
     "text": [
      "Train on 7000 samples, validate on 3000 samples\n",
      "Epoch 1/50\n",
      " - 1s - loss: 0.5887 - acc: 0.7973 - val_loss: 0.4605 - val_acc: 0.7930\n",
      "Epoch 2/50\n",
      " - 1s - loss: 0.4327 - acc: 0.7977 - val_loss: 0.4261 - val_acc: 0.7930\n",
      "Epoch 3/50\n",
      " - 1s - loss: 0.4175 - acc: 0.8087 - val_loss: 0.4165 - val_acc: 0.8200\n",
      "Epoch 4/50\n",
      " - 1s - loss: 0.4075 - acc: 0.8250 - val_loss: 0.4100 - val_acc: 0.8240\n",
      "Epoch 5/50\n",
      " - 1s - loss: 0.4002 - acc: 0.8286 - val_loss: 0.4009 - val_acc: 0.8247\n",
      "Epoch 6/50\n",
      " - 1s - loss: 0.3935 - acc: 0.8290 - val_loss: 0.3953 - val_acc: 0.8280\n",
      "Epoch 7/50\n",
      " - 1s - loss: 0.3882 - acc: 0.8303 - val_loss: 0.3902 - val_acc: 0.8247\n",
      "Epoch 8/50\n",
      " - 1s - loss: 0.3845 - acc: 0.8329 - val_loss: 0.3864 - val_acc: 0.8267\n",
      "Epoch 9/50\n",
      " - 1s - loss: 0.3803 - acc: 0.8319 - val_loss: 0.3808 - val_acc: 0.8280\n",
      "Epoch 10/50\n",
      " - 1s - loss: 0.3772 - acc: 0.8311 - val_loss: 0.3774 - val_acc: 0.8257\n",
      "Epoch 11/50\n",
      " - 1s - loss: 0.3740 - acc: 0.8323 - val_loss: 0.3742 - val_acc: 0.8260\n",
      "Epoch 12/50\n",
      " - 1s - loss: 0.3723 - acc: 0.8383 - val_loss: 0.3719 - val_acc: 0.8407\n",
      "Epoch 13/50\n",
      " - 1s - loss: 0.3701 - acc: 0.8440 - val_loss: 0.3710 - val_acc: 0.8473\n",
      "Epoch 14/50\n",
      " - 1s - loss: 0.3679 - acc: 0.8457 - val_loss: 0.3694 - val_acc: 0.8483\n",
      "Epoch 15/50\n",
      " - 1s - loss: 0.3654 - acc: 0.8497 - val_loss: 0.3661 - val_acc: 0.8457\n",
      "Epoch 16/50\n",
      " - 1s - loss: 0.3644 - acc: 0.8489 - val_loss: 0.3660 - val_acc: 0.8467\n",
      "Epoch 17/50\n",
      " - 1s - loss: 0.3628 - acc: 0.8510 - val_loss: 0.3625 - val_acc: 0.8463\n",
      "Epoch 18/50\n",
      " - 1s - loss: 0.3615 - acc: 0.8524 - val_loss: 0.3620 - val_acc: 0.8523\n",
      "Epoch 19/50\n",
      " - 1s - loss: 0.3603 - acc: 0.8530 - val_loss: 0.3628 - val_acc: 0.8483\n",
      "Epoch 20/50\n",
      " - 1s - loss: 0.3597 - acc: 0.8523 - val_loss: 0.3584 - val_acc: 0.8493\n",
      "Epoch 21/50\n",
      " - 1s - loss: 0.3584 - acc: 0.8531 - val_loss: 0.3590 - val_acc: 0.8517\n",
      "Epoch 22/50\n",
      " - 1s - loss: 0.3582 - acc: 0.8531 - val_loss: 0.3601 - val_acc: 0.8500\n",
      "Epoch 23/50\n",
      " - 1s - loss: 0.3568 - acc: 0.8549 - val_loss: 0.3566 - val_acc: 0.8553\n",
      "Epoch 24/50\n",
      " - 1s - loss: 0.3561 - acc: 0.8540 - val_loss: 0.3556 - val_acc: 0.8503\n",
      "Epoch 25/50\n",
      " - 1s - loss: 0.3558 - acc: 0.8551 - val_loss: 0.3568 - val_acc: 0.8560\n",
      "Epoch 26/50\n",
      " - 1s - loss: 0.3555 - acc: 0.8537 - val_loss: 0.3522 - val_acc: 0.8553\n",
      "Epoch 27/50\n",
      " - 1s - loss: 0.3540 - acc: 0.8550 - val_loss: 0.3521 - val_acc: 0.8500\n",
      "Epoch 28/50\n",
      " - 1s - loss: 0.3547 - acc: 0.8531 - val_loss: 0.3510 - val_acc: 0.8513\n",
      "Epoch 29/50\n",
      " - 1s - loss: 0.3529 - acc: 0.8546 - val_loss: 0.3503 - val_acc: 0.8543\n",
      "Epoch 30/50\n",
      " - 1s - loss: 0.3539 - acc: 0.8560 - val_loss: 0.3512 - val_acc: 0.8533\n",
      "Epoch 31/50\n",
      " - 1s - loss: 0.3528 - acc: 0.8550 - val_loss: 0.3507 - val_acc: 0.8573\n",
      "Epoch 32/50\n",
      " - 1s - loss: 0.3524 - acc: 0.8561 - val_loss: 0.3488 - val_acc: 0.8573\n",
      "Epoch 33/50\n",
      " - 1s - loss: 0.3528 - acc: 0.8560 - val_loss: 0.3488 - val_acc: 0.8543\n",
      "Epoch 34/50\n",
      " - 1s - loss: 0.3517 - acc: 0.8563 - val_loss: 0.3494 - val_acc: 0.8520\n",
      "Epoch 35/50\n",
      " - 1s - loss: 0.3516 - acc: 0.8577 - val_loss: 0.3503 - val_acc: 0.8553\n",
      "Epoch 36/50\n",
      " - 1s - loss: 0.3520 - acc: 0.8584 - val_loss: 0.3486 - val_acc: 0.8553\n",
      "Epoch 37/50\n",
      " - 1s - loss: 0.3504 - acc: 0.8579 - val_loss: 0.3483 - val_acc: 0.8563\n",
      "Epoch 38/50\n",
      " - 1s - loss: 0.3503 - acc: 0.8599 - val_loss: 0.3465 - val_acc: 0.8517\n",
      "Epoch 39/50\n",
      " - 1s - loss: 0.3518 - acc: 0.8563 - val_loss: 0.3475 - val_acc: 0.8577\n",
      "Epoch 40/50\n",
      " - 1s - loss: 0.3505 - acc: 0.8577 - val_loss: 0.3511 - val_acc: 0.8540\n",
      "Epoch 41/50\n",
      " - 1s - loss: 0.3506 - acc: 0.8569 - val_loss: 0.3486 - val_acc: 0.8567\n",
      "Epoch 42/50\n",
      " - 1s - loss: 0.3503 - acc: 0.8579 - val_loss: 0.3474 - val_acc: 0.8563\n",
      "Epoch 43/50\n",
      " - 1s - loss: 0.3503 - acc: 0.8593 - val_loss: 0.3459 - val_acc: 0.8567\n",
      "Epoch 44/50\n",
      " - 1s - loss: 0.3494 - acc: 0.8597 - val_loss: 0.3447 - val_acc: 0.8553\n",
      "Epoch 45/50\n",
      " - 1s - loss: 0.3487 - acc: 0.8583 - val_loss: 0.3447 - val_acc: 0.8580\n",
      "Epoch 46/50\n",
      " - 1s - loss: 0.3492 - acc: 0.8574 - val_loss: 0.3449 - val_acc: 0.8573\n",
      "Epoch 47/50\n",
      " - 1s - loss: 0.3486 - acc: 0.8590 - val_loss: 0.3462 - val_acc: 0.8590\n",
      "Epoch 48/50\n",
      " - 1s - loss: 0.3486 - acc: 0.8599 - val_loss: 0.3449 - val_acc: 0.8583\n",
      "Epoch 49/50\n",
      " - 1s - loss: 0.3481 - acc: 0.8616 - val_loss: 0.3449 - val_acc: 0.8550\n",
      "Epoch 50/50\n",
      " - 1s - loss: 0.3478 - acc: 0.8603 - val_loss: 0.3463 - val_acc: 0.8550\n"
     ]
    }
   ],
   "source": [
    "# build the model\n",
    "model = classification_model()\n",
    "\n",
    "# fit the model\n",
    "model.fit(X_train, y_train, validation_data=(X_test, y_test), epochs=50, verbose=2)\n",
    "\n",
    "# evaluate the model\n",
    "scores = model.evaluate(X_test, y_test, verbose=0)\n"
   ]
  },
  {
   "cell_type": "markdown",
   "metadata": {},
   "source": [
    "#### Let's print the accuracy and the corresponding error."
   ]
  },
  {
   "cell_type": "code",
   "execution_count": 9,
   "metadata": {},
   "outputs": [
    {
     "name": "stdout",
     "output_type": "stream",
     "text": [
      "Accuracy: 0.8550000001589457% \n",
      " Error: 0.14499999984105427\n"
     ]
    }
   ],
   "source": [
    "print('Accuracy: {}% \\n Error: {}'.format(scores[1], 1 - scores[1]))"
   ]
  },
  {
   "cell_type": "code",
   "execution_count": null,
   "metadata": {},
   "outputs": [],
   "source": []
  }
 ],
 "metadata": {
  "kernelspec": {
   "display_name": "Python",
   "language": "python",
   "name": "conda-env-python-py"
  },
  "language_info": {
   "codemirror_mode": {
    "name": "ipython",
    "version": 3
   },
   "file_extension": ".py",
   "mimetype": "text/x-python",
   "name": "python",
   "nbconvert_exporter": "python",
   "pygments_lexer": "ipython3",
   "version": "3.6.7"
  }
 },
 "nbformat": 4,
 "nbformat_minor": 4
}
